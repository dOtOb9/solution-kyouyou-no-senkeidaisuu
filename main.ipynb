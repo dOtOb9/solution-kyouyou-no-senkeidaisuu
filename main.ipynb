{
 "cells": [
  {
   "cell_type": "code",
   "execution_count": 2,
   "metadata": {},
   "outputs": [],
   "source": [
    "import numpy as np\n",
    "\n",
    "\n",
    "def answer(ans):\n",
    "    print('Answer:\\n', ans)"
   ]
  },
  {
   "cell_type": "markdown",
   "metadata": {},
   "source": [
    "# 第１章 \n",
    "## 問１"
   ]
  },
  {
   "cell_type": "code",
   "execution_count": 3,
   "metadata": {},
   "outputs": [],
   "source": [
    "a = np.array([[9, 8, 7 ,6],\n",
    "             [5, 4, 3, 2],\n",
    "             [1, 0, -1, -2]])"
   ]
  },
  {
   "cell_type": "markdown",
   "metadata": {},
   "source": [
    "### 第3行"
   ]
  },
  {
   "cell_type": "code",
   "execution_count": 4,
   "metadata": {},
   "outputs": [
    {
     "name": "stdout",
     "output_type": "stream",
     "text": [
      "Answer:\n",
      " [ 1  0 -1 -2]\n"
     ]
    }
   ],
   "source": [
    "answer(a[2])"
   ]
  },
  {
   "cell_type": "markdown",
   "metadata": {},
   "source": [
    "### 第4列"
   ]
  },
  {
   "cell_type": "code",
   "execution_count": 5,
   "metadata": {},
   "outputs": [
    {
     "name": "stdout",
     "output_type": "stream",
     "text": [
      "Answer:\n",
      " [ 6  2 -2]\n"
     ]
    }
   ],
   "source": [
    "answer(a[:, 3])"
   ]
  },
  {
   "cell_type": "markdown",
   "metadata": {},
   "source": [
    "### (1, 3)成分"
   ]
  },
  {
   "cell_type": "code",
   "execution_count": 6,
   "metadata": {},
   "outputs": [
    {
     "name": "stdout",
     "output_type": "stream",
     "text": [
      "Answer:\n",
      " 7\n"
     ]
    }
   ],
   "source": [
    "answer(a[0, 2])"
   ]
  },
  {
   "cell_type": "markdown",
   "metadata": {},
   "source": [
    "### (2, 4)成分"
   ]
  },
  {
   "cell_type": "code",
   "execution_count": 7,
   "metadata": {},
   "outputs": [
    {
     "name": "stdout",
     "output_type": "stream",
     "text": [
      "Answer:\n",
      " 2\n"
     ]
    }
   ],
   "source": [
    "answer(a[1, 3])"
   ]
  },
  {
   "cell_type": "markdown",
   "metadata": {},
   "source": [
    "### (3, 2)成分"
   ]
  },
  {
   "cell_type": "code",
   "execution_count": 8,
   "metadata": {},
   "outputs": [
    {
     "name": "stdout",
     "output_type": "stream",
     "text": [
      "Answer:\n",
      " 0\n"
     ]
    }
   ],
   "source": [
    "answer(a[2, 1])"
   ]
  },
  {
   "cell_type": "markdown",
   "metadata": {},
   "source": [
    "## 問２"
   ]
  },
  {
   "cell_type": "markdown",
   "metadata": {},
   "source": [
    "### (i, j)成分がiとjの最大公約数になるような4次正方行列"
   ]
  },
  {
   "cell_type": "code",
   "execution_count": 9,
   "metadata": {},
   "outputs": [
    {
     "name": "stdout",
     "output_type": "stream",
     "text": [
      "Answer:\n",
      " [[1. 1. 1. 1.]\n",
      " [1. 2. 1. 2.]\n",
      " [1. 1. 3. 1.]\n",
      " [1. 2. 1. 4.]]\n"
     ]
    }
   ],
   "source": [
    "gcf_matrix = np.zeros((4, 4))\n",
    "\n",
    "for i in range(4):\n",
    "    for j in range(4):\n",
    "        gcf_matrix[i, j] = np.gcd(i+1, j+1)\n",
    "\n",
    "answer(gcf_matrix)"
   ]
  },
  {
   "cell_type": "markdown",
   "metadata": {},
   "source": [
    "### (i, j)成分がiとjの最小公倍数であるような4次正方行列"
   ]
  },
  {
   "cell_type": "code",
   "execution_count": 10,
   "metadata": {},
   "outputs": [
    {
     "name": "stdout",
     "output_type": "stream",
     "text": [
      "Answer:\n",
      " [[ 1.  2.  3.  4.]\n",
      " [ 2.  2.  6.  4.]\n",
      " [ 3.  6.  3. 12.]\n",
      " [ 4.  4. 12.  4.]]\n"
     ]
    }
   ],
   "source": [
    "lem_matrix = np.zeros((4, 4))\n",
    "\n",
    "for i in range(4):\n",
    "    for j in range(4):\n",
    "        lem_matrix[i, j] = np.lcm(i+1, j+1)\n",
    "\n",
    "answer(lem_matrix)"
   ]
  },
  {
   "cell_type": "markdown",
   "metadata": {},
   "source": [
    "## 問３"
   ]
  },
  {
   "cell_type": "code",
   "execution_count": 11,
   "metadata": {},
   "outputs": [],
   "source": [
    "a = np.array([[0, 1, 2],\n",
    "              [3, 1, -1]])\n",
    "\n",
    "b = np.array([[3, -2, 1],\n",
    "              [1, 0, -1]])"
   ]
  },
  {
   "cell_type": "markdown",
   "metadata": {},
   "source": [
    "### (1)"
   ]
  },
  {
   "cell_type": "code",
   "execution_count": 12,
   "metadata": {},
   "outputs": [
    {
     "name": "stdout",
     "output_type": "stream",
     "text": [
      "Answer:\n",
      " [[-6  5  0]\n",
      " [ 1  1  1]]\n"
     ]
    }
   ],
   "source": [
    "answer(a - 2 * b)"
   ]
  },
  {
   "cell_type": "markdown",
   "metadata": {},
   "source": [
    "### (2)"
   ]
  },
  {
   "cell_type": "code",
   "execution_count": 13,
   "metadata": {},
   "outputs": [
    {
     "name": "stdout",
     "output_type": "stream",
     "text": [
      "Answer:\n",
      " [[12 -5 10]\n",
      " [13  3 -7]]\n"
     ]
    }
   ],
   "source": [
    "answer(3 * a + 4 * b)"
   ]
  },
  {
   "cell_type": "markdown",
   "metadata": {},
   "source": [
    "### (3)"
   ]
  },
  {
   "cell_type": "code",
   "execution_count": 14,
   "metadata": {},
   "outputs": [
    {
     "name": "stdout",
     "output_type": "stream",
     "text": [
      "Answer:\n",
      " [[ 3 -3 -1]\n",
      " [-2 -1  0]]\n"
     ]
    }
   ],
   "source": [
    "answer(-1 * a + b)"
   ]
  },
  {
   "cell_type": "markdown",
   "metadata": {},
   "source": [
    "## 問４"
   ]
  },
  {
   "cell_type": "code",
   "execution_count": 15,
   "metadata": {},
   "outputs": [],
   "source": [
    "a = np.array([[-1, 0, 3], \n",
    "              [2, 1, 1]])\n",
    "\n",
    "b = np.array([[3, -2], \n",
    "              [7, 1]])"
   ]
  },
  {
   "cell_type": "markdown",
   "metadata": {},
   "source": [
    "### AB"
   ]
  },
  {
   "cell_type": "code",
   "execution_count": 16,
   "metadata": {},
   "outputs": [
    {
     "name": "stdout",
     "output_type": "stream",
     "text": [
      "Answer:\n",
      " 計算不能\n"
     ]
    }
   ],
   "source": [
    "try:\n",
    "    np.dot(a, b)\n",
    "except:\n",
    "    answer('計算不能')"
   ]
  },
  {
   "cell_type": "markdown",
   "metadata": {},
   "source": [
    "### BA"
   ]
  },
  {
   "cell_type": "code",
   "execution_count": 17,
   "metadata": {},
   "outputs": [
    {
     "name": "stdout",
     "output_type": "stream",
     "text": [
      "Answer:\n",
      " [[-7 -2  7]\n",
      " [-5  1 22]]\n"
     ]
    }
   ],
   "source": [
    "answer(np.dot(b, a))"
   ]
  },
  {
   "cell_type": "markdown",
   "metadata": {},
   "source": [
    "## 問５❌"
   ]
  },
  {
   "cell_type": "markdown",
   "metadata": {},
   "source": [
    "## 問６ 省略"
   ]
  },
  {
   "cell_type": "markdown",
   "metadata": {},
   "source": [
    "## 問７"
   ]
  },
  {
   "cell_type": "markdown",
   "metadata": {},
   "source": [
    "### (1)❌"
   ]
  },
  {
   "cell_type": "markdown",
   "metadata": {},
   "source": [
    "### (2)"
   ]
  },
  {
   "cell_type": "code",
   "execution_count": 18,
   "metadata": {},
   "outputs": [
    {
     "name": "stdout",
     "output_type": "stream",
     "text": [
      "Answer:\n",
      " [[0 0]\n",
      " [0 0]]\n"
     ]
    }
   ],
   "source": [
    "a = np.array([[1, 1],\n",
    "              [1, 1]])\n",
    "\n",
    "b = np.array([[2, 2], \n",
    "              [-2, -2]])\n",
    "\n",
    "answer(np.dot(a, b))"
   ]
  },
  {
   "cell_type": "markdown",
   "metadata": {},
   "source": [
    "### (3) 省略"
   ]
  },
  {
   "cell_type": "markdown",
   "metadata": {},
   "source": [
    "## 問８"
   ]
  },
  {
   "cell_type": "code",
   "execution_count": 30,
   "metadata": {},
   "outputs": [
    {
     "name": "stdout",
     "output_type": "stream",
     "text": [
      "Answer:\n",
      " [[0 1 1 1]\n",
      " [0 0 1 1]\n",
      " [0 0 0 1]\n",
      " [0 0 0 0]]\n",
      "は、べき零行列\n",
      "Answer:\n",
      " [[ 2 -3  1]\n",
      " [ 1 -2  1]\n",
      " [ 1 -3  2]]\n",
      "は、べき等行列\n"
     ]
    }
   ],
   "source": [
    "a = np.array([[0, 1, 1, 1], \n",
    "              [0, 0, 1, 1], \n",
    "              [0, 0, 0, 1],\n",
    "              [0, 0, 0, 0]])\n",
    "\n",
    "b = np.array([[2, -3, 1],\n",
    "              [1, -2, 1],\n",
    "              [1, -3, 2]])\n",
    "\n",
    "\n",
    "for mat in [a, b]:\n",
    "\n",
    "    already_answered = False\n",
    "    if np.all(np.dot(mat, mat) == mat):\n",
    "        answer(f'{mat}\\nは、べき等行列')\n",
    "        already_answered = True\n",
    "\n",
    "    #-------------------------------------------------------\n",
    "\n",
    "    pre_mat = mat\n",
    "\n",
    "    for time in range(1, 101):\n",
    "        if np.all(np.dot(pre_mat, mat) == np.zeros((mat.shape[0], mat.shape[1]))):\n",
    "            answer(f'{mat}\\nは、べき零行列')\n",
    "\n",
    "            already_answered = True\n",
    "            break\n",
    "\n",
    "        pre_mat = np.dot(pre_mat, mat)\n",
    "\n",
    "    if not already_answered:\n",
    "        answer(f'{mat}\\nは、べき零行列でもべき等行列でもない')"
   ]
  },
  {
   "cell_type": "markdown",
   "metadata": {},
   "source": [
    "## 問９"
   ]
  },
  {
   "cell_type": "markdown",
   "metadata": {},
   "source": [
    "### A"
   ]
  },
  {
   "cell_type": "code",
   "execution_count": 31,
   "metadata": {},
   "outputs": [
    {
     "name": "stdout",
     "output_type": "stream",
     "text": [
      "Answer:\n",
      " [[1 2 3]]\n"
     ]
    }
   ],
   "source": [
    "a = np.array([[1], \n",
    "              [2],\n",
    "              [3]])\n",
    "\n",
    "answer(a.T)"
   ]
  },
  {
   "cell_type": "markdown",
   "metadata": {},
   "source": [
    "### b"
   ]
  },
  {
   "cell_type": "code",
   "execution_count": 32,
   "metadata": {},
   "outputs": [
    {
     "name": "stdout",
     "output_type": "stream",
     "text": [
      "Answer:\n",
      " [[4 2]\n",
      " [3 1]]\n"
     ]
    }
   ],
   "source": [
    "\n",
    "b = np.array([[4, 3],\n",
    "              [2, 1]])\n",
    "\n",
    "answer(b.T)"
   ]
  },
  {
   "cell_type": "markdown",
   "metadata": {},
   "source": [
    "## 問10~16❌"
   ]
  },
  {
   "cell_type": "markdown",
   "metadata": {},
   "source": [
    "## 基礎問題"
   ]
  },
  {
   "cell_type": "markdown",
   "metadata": {},
   "source": [
    "### 1.1~1.2❌"
   ]
  },
  {
   "cell_type": "markdown",
   "metadata": {},
   "source": [
    "### 1.3"
   ]
  },
  {
   "cell_type": "code",
   "execution_count": 25,
   "metadata": {},
   "outputs": [],
   "source": [
    "la = np.array([[1, 2, -1],\n",
    "              [3, 1, 0]])\n",
    "\n",
    "lb = np.array([[2, 0, 1], \n",
    "               [-1, 1, 0], \n",
    "               [0 ,1, 3]])\n",
    "\n",
    "a = np.array([[1],\n",
    "              [-2],\n",
    "              [1]])\n",
    "\n",
    "b = np.array([[3, 2]])"
   ]
  },
  {
   "cell_type": "markdown",
   "metadata": {},
   "source": [
    "#### (1)"
   ]
  },
  {
   "cell_type": "code",
   "execution_count": 26,
   "metadata": {},
   "outputs": [
    {
     "name": "stdout",
     "output_type": "stream",
     "text": [
      "Answer:\n",
      " [[10  5 -1]\n",
      " [ 5  5 -2]\n",
      " [-1 -2  1]]\n"
     ]
    }
   ],
   "source": [
    "answer(np.dot(la.T, la))"
   ]
  },
  {
   "cell_type": "markdown",
   "metadata": {},
   "source": [
    "#### (2)"
   ]
  },
  {
   "cell_type": "code",
   "execution_count": 27,
   "metadata": {},
   "outputs": [
    {
     "name": "stdout",
     "output_type": "stream",
     "text": [
      "Answer:\n",
      " [[ 6  5]\n",
      " [ 5 10]]\n"
     ]
    }
   ],
   "source": [
    "answer(np.dot(la, la.T))"
   ]
  },
  {
   "cell_type": "markdown",
   "metadata": {},
   "source": [
    "#### (3)"
   ]
  },
  {
   "cell_type": "code",
   "execution_count": 28,
   "metadata": {},
   "outputs": [
    {
     "name": "stdout",
     "output_type": "stream",
     "text": [
      "Answer:\n",
      " [[ 4  1  5]\n",
      " [-3  1 -1]\n",
      " [-1  4  9]]\n"
     ]
    }
   ],
   "source": [
    "answer(np.dot(lb, lb))"
   ]
  },
  {
   "cell_type": "markdown",
   "metadata": {},
   "source": [
    "#### (4)"
   ]
  },
  {
   "cell_type": "code",
   "execution_count": 29,
   "metadata": {},
   "outputs": [
    {
     "name": "stdout",
     "output_type": "stream",
     "text": [
      "Answer:\n",
      " [[ 0  1 -2]\n",
      " [ 5  1  3]]\n"
     ]
    }
   ],
   "source": [
    "answer(np.dot(la, lb))"
   ]
  },
  {
   "cell_type": "markdown",
   "metadata": {},
   "source": [
    "#### (5)"
   ]
  },
  {
   "cell_type": "code",
   "execution_count": 30,
   "metadata": {},
   "outputs": [
    {
     "name": "stdout",
     "output_type": "stream",
     "text": [
      "Answer:\n",
      " [[10]]\n"
     ]
    }
   ],
   "source": [
    "answer(np.dot(a.T, np.dot(lb, a)))"
   ]
  },
  {
   "cell_type": "markdown",
   "metadata": {},
   "source": [
    "#### (6)"
   ]
  },
  {
   "cell_type": "code",
   "execution_count": 32,
   "metadata": {},
   "outputs": [
    {
     "name": "stdout",
     "output_type": "stream",
     "text": [
      "Answer:\n",
      " [[ 3  2]\n",
      " [-6 -4]\n",
      " [ 3  2]]\n"
     ]
    }
   ],
   "source": [
    "answer(np.dot(a, b))"
   ]
  },
  {
   "cell_type": "markdown",
   "metadata": {},
   "source": [
    "### 1.4"
   ]
  },
  {
   "cell_type": "code",
   "execution_count": 34,
   "metadata": {},
   "outputs": [],
   "source": [
    "x = np.array([[0, 1],\n",
    "              [1, 0]])\n",
    "\n",
    "y = np.array([[0, -1j],\n",
    "              [1j, 0]])\n",
    "\n",
    "z = np.array([[1, 0],\n",
    "              [0, -1]])"
   ]
  },
  {
   "cell_type": "markdown",
   "metadata": {},
   "source": [
    "#### (1)"
   ]
  },
  {
   "cell_type": "code",
   "execution_count": 35,
   "metadata": {},
   "outputs": [
    {
     "name": "stdout",
     "output_type": "stream",
     "text": [
      "Answer:\n",
      " [[1 0]\n",
      " [0 1]]\n"
     ]
    }
   ],
   "source": [
    "answer(np.dot(x, x))"
   ]
  },
  {
   "cell_type": "code",
   "execution_count": 36,
   "metadata": {},
   "outputs": [
    {
     "name": "stdout",
     "output_type": "stream",
     "text": [
      "Answer:\n",
      " [[1.+0.j 0.+0.j]\n",
      " [0.+0.j 1.+0.j]]\n"
     ]
    }
   ],
   "source": [
    "answer(np.dot(y, y))"
   ]
  },
  {
   "cell_type": "code",
   "execution_count": 37,
   "metadata": {},
   "outputs": [
    {
     "name": "stdout",
     "output_type": "stream",
     "text": [
      "Answer:\n",
      " [[1 0]\n",
      " [0 1]]\n"
     ]
    }
   ],
   "source": [
    "answer(np.dot(z, z))"
   ]
  },
  {
   "cell_type": "markdown",
   "metadata": {},
   "source": [
    "#### (2)"
   ]
  },
  {
   "cell_type": "code",
   "execution_count": 38,
   "metadata": {},
   "outputs": [
    {
     "name": "stdout",
     "output_type": "stream",
     "text": [
      "Answer:\n",
      " [[0.+0.j 0.+0.j]\n",
      " [0.+0.j 0.+0.j]]\n"
     ]
    }
   ],
   "source": [
    "answer(np.dot(x, y) + np.dot(y, x))"
   ]
  },
  {
   "cell_type": "code",
   "execution_count": 40,
   "metadata": {},
   "outputs": [
    {
     "name": "stdout",
     "output_type": "stream",
     "text": [
      "Answer:\n",
      " [[ 0.+0.j  0.+0.j]\n",
      " [ 0.+0.j -0.+0.j]]\n"
     ]
    }
   ],
   "source": [
    "answer(np.dot(y, z) + np.dot(z, y))"
   ]
  },
  {
   "cell_type": "code",
   "execution_count": 41,
   "metadata": {},
   "outputs": [
    {
     "name": "stdout",
     "output_type": "stream",
     "text": [
      "Answer:\n",
      " [[0 0]\n",
      " [0 0]]\n"
     ]
    }
   ],
   "source": [
    "answer(np.dot(z, x) + np.dot(x, z))"
   ]
  },
  {
   "cell_type": "markdown",
   "metadata": {},
   "source": [
    "#### (3)"
   ]
  },
  {
   "cell_type": "code",
   "execution_count": 43,
   "metadata": {},
   "outputs": [
    {
     "name": "stdout",
     "output_type": "stream",
     "text": [
      "Answer:\n",
      " 成り立つ\n"
     ]
    }
   ],
   "source": [
    "equal_matrix = np.dot(x, y) - np.dot(y, x) == 2j * z\n",
    "\n",
    "answer(\"成り立つ\" if np.all(equal_matrix) else \"成り立たない\")"
   ]
  },
  {
   "cell_type": "code",
   "execution_count": 44,
   "metadata": {},
   "outputs": [
    {
     "name": "stdout",
     "output_type": "stream",
     "text": [
      "Answer:\n",
      " 成り立つ\n"
     ]
    }
   ],
   "source": [
    "equal_matrix = np.dot(y, z) - np.dot(z, y) == 2j * x\n",
    "\n",
    "answer(\"成り立つ\" if np.all(equal_matrix) else \"成り立たない\")"
   ]
  },
  {
   "cell_type": "code",
   "execution_count": 46,
   "metadata": {},
   "outputs": [
    {
     "name": "stdout",
     "output_type": "stream",
     "text": [
      "Answer:\n",
      " 成り立つ\n"
     ]
    }
   ],
   "source": [
    "equal_matrix = np.dot(z, x) - np.dot(x, z) == 2j * y\n",
    "\n",
    "answer(\"成り立つ\" if np.all(equal_matrix) else \"成り立たない\")"
   ]
  },
  {
   "cell_type": "code",
   "execution_count": null,
   "metadata": {},
   "outputs": [],
   "source": []
  }
 ],
 "metadata": {
  "kernelspec": {
   "display_name": "Python 3",
   "language": "python",
   "name": "python3"
  },
  "language_info": {
   "codemirror_mode": {
    "name": "ipython",
    "version": 3
   },
   "file_extension": ".py",
   "mimetype": "text/x-python",
   "name": "python",
   "nbconvert_exporter": "python",
   "pygments_lexer": "ipython3",
   "version": "3.10.12"
  }
 },
 "nbformat": 4,
 "nbformat_minor": 2
}
